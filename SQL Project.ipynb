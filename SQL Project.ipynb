{
 "cells": [
  {
   "attachments": {},
   "cell_type": "markdown",
   "metadata": {},
   "source": [
    "Welcome to the SQL mini project. You will carry out this project partly in\n",
    "the PHPMyAdmin interface, and partly in Jupyter via a Python connection.\n",
    "\n",
    "This is Tier 2 of the case study, which means that there'll be less guidance for you about how to setup\n",
    "your local SQLite connection in PART 2 of the case study. This will make the case study more challenging for you: \n",
    "you might need to do some digging, and revise the Working with Relational Databases in Python chapter in the previous resource.\n",
    "\n",
    "Otherwise, the questions in the case study are exactly the same as with Tier 1. \n",
    "\n",
    "PART 1: PHPMyAdmin\n",
    "You will complete questions 1-9 below in the PHPMyAdmin interface. \n",
    "Log in by pasting the following URL into your browser, and\n",
    "using the following Username and Password:\n",
    "\n",
    "URL: https://sql.springboard.com/  \n",
    "Username: student  \n",
    "Password: learn_sql@springboard\n",
    "\n",
    "The data you need is in the \"country_club\" database. This database\n",
    "contains 3 tables:  \n",
    "    i) the \"Bookings\" table,  \n",
    "    ii) the \"Facilities\" table, and  \n",
    "    iii) the \"Members\" table.\n",
    "\n",
    "In this case study, you'll be asked a series of questions. You can\n",
    "solve them using the platform, but for the final deliverable,\n",
    "paste the code for each solution into this script, and upload it\n",
    "to your GitHub.\n",
    "\n",
    "Before starting with the questions, feel free to take your time,\n",
    "exploring the data, and getting acquainted with the 3 tables. \n",
    "\n"
   ]
  },
  {
   "attachments": {},
   "cell_type": "markdown",
   "metadata": {},
   "source": [
    "# **PART I**\n",
    "##                                  **QUESTIONS** \n",
    "\n",
    "**Q1:** Some of the facilities charge a fee to members, but some do not.\n",
    "Write a SQL query to produce a list of the names of the facilities that do. "
   ]
  },
  {
   "cell_type": "code",
   "execution_count": null,
   "metadata": {
    "vscode": {
     "languageId": "sql"
    }
   },
   "outputs": [],
   "source": [
    "SELECT name \n",
    "    FROM Facilities \n",
    "    WHERE membercost > 0;"
   ]
  },
  {
   "attachments": {},
   "cell_type": "markdown",
   "metadata": {},
   "source": [
    "**Q2:** How many facilities do not charge a fee to members?"
   ]
  },
  {
   "cell_type": "code",
   "execution_count": null,
   "metadata": {
    "vscode": {
     "languageId": "sql"
    }
   },
   "outputs": [],
   "source": [
    "SELECT name \n",
    "    FROM Facilities \n",
    "    WHERE membercost = 0;"
   ]
  },
  {
   "attachments": {},
   "cell_type": "markdown",
   "metadata": {},
   "source": [
    "**Q3:** Write an SQL query to show a list of facilities that charge a fee to members, where the fee is less than 20% of the facility's monthly maintenance cost.\n",
    "Return the facid, facility name, member cost, and monthly maintenance of the\n",
    "facilities in question. "
   ]
  },
  {
   "cell_type": "code",
   "execution_count": null,
   "metadata": {
    "vscode": {
     "languageId": "sql"
    }
   },
   "outputs": [],
   "source": [
    "SELECT facid, name, membercost, monthlymaintenance \n",
    "       FROM Facilities \n",
    "       WHERE membercost < (monthlymaintenance * 0.2); "
   ]
  },
  {
   "attachments": {},
   "cell_type": "markdown",
   "metadata": {},
   "source": [
    "**Q4:** Write an SQL query to retrieve the details of facilities with ID 1 and 5.\n",
    "Try writing the query without using the OR operator."
   ]
  },
  {
   "cell_type": "code",
   "execution_count": null,
   "metadata": {
    "vscode": {
     "languageId": "sql"
    }
   },
   "outputs": [],
   "source": [
    "SELECT * \n",
    "    FROM Facilities \n",
    "    WHERE facid IN (1,5);"
   ]
  },
  {
   "attachments": {},
   "cell_type": "markdown",
   "metadata": {},
   "source": [
    "**Q5:** Produce a list of facilities, with each labelled as\n",
    "'cheap' or 'expensive', depending on if their monthly maintenance cost is\n",
    "more than $100. Return the name and monthly maintenance of the facilities\n",
    "in question. "
   ]
  },
  {
   "cell_type": "code",
   "execution_count": null,
   "metadata": {
    "vscode": {
     "languageId": "sql"
    }
   },
   "outputs": [],
   "source": [
    "SELECT name, monthlymaintenance, \n",
    "    CASE \n",
    "        WHEN monthlymaintenance > 100 THEN 'expensive' \n",
    "        ELSE 'cheap' \n",
    "        END AS COE \n",
    "        FROM Facilities; "
   ]
  },
  {
   "attachments": {},
   "cell_type": "markdown",
   "metadata": {},
   "source": [
    "**Q6:** You'd like to get the first and last name of the last member(s)\n",
    "who signed up. Try not to use the LIMIT clause for your solution. "
   ]
  },
  {
   "cell_type": "code",
   "execution_count": null,
   "metadata": {
    "vscode": {
     "languageId": "sql"
    }
   },
   "outputs": [],
   "source": [
    "SELECT firstname, surname \n",
    "    FROM Members \n",
    "    ORDER BY joindate DESC;"
   ]
  },
  {
   "attachments": {},
   "cell_type": "markdown",
   "metadata": {},
   "source": [
    "**Q7:** Produce a list of all members who have used a tennis court.\n",
    "Include in your output the name of the court, and the name of the member\n",
    "formatted as a single column. Ensure no duplicate data, and order by\n",
    "the member name. "
   ]
  },
  {
   "cell_type": "code",
   "execution_count": null,
   "metadata": {
    "vscode": {
     "languageId": "sql"
    }
   },
   "outputs": [],
   "source": [
    "SELECT DISTINCT concat(firstname,' ', surname) AS Names, F.name AS Facility \n",
    "    FROM Members AS M \n",
    "    INNER JOIN Bookings AS B \n",
    "    ON M.memid = B.memid \n",
    "    INNER JOIN Facilities AS F \n",
    "    ON B.facid = F.facid \n",
    "    WHERE B.facid IN (0, 1);"
   ]
  },
  {
   "attachments": {},
   "cell_type": "markdown",
   "metadata": {},
   "source": [
    "**Q8:** Produce a list of bookings on the day of 2012-09-14 which\n",
    "will cost the member (or guest) more than $30. Remember that guests have\n",
    "different costs to members (the listed costs are per half-hour 'slot'), and\n",
    "the guest user's ID is always 0. Include in your output the name of the\n",
    "facility, the name of the member formatted as a single column, and the cost.\n",
    "Order by descending cost, and do not use any subqueries."
   ]
  },
  {
   "cell_type": "code",
   "execution_count": null,
   "metadata": {
    "vscode": {
     "languageId": "sql"
    }
   },
   "outputs": [],
   "source": [
    "SELECT F.name AS Facility,\n",
    "    CASE \n",
    "        WHEN B.memid = 0 THEN 'Guest' \n",
    "        ELSE concat(firstname,' ',surname) \n",
    "        END AS Names,\n",
    "    CASE \n",
    "\t    WHEN B.memid = 0 THEN F.guestcost\n",
    "        ELSE F.membercost\n",
    "        END AS Cost \n",
    "    FROM Members AS M \n",
    "    INNER JOIN Bookings AS B \n",
    "    ON M.memid = B.memid \n",
    "    INNER JOIN Facilities AS F \n",
    "    ON B.facid = F.facid \n",
    "    WHERE starttime LIKE '2012-09-14%' \n",
    "    AND ( \n",
    "        (B.memid != 0 AND membercost > 30) OR (B.memid = 0 AND guestcost > 30) \n",
    "        )\n",
    "    ORDER BY Cost DESC;"
   ]
  },
  {
   "attachments": {},
   "cell_type": "markdown",
   "metadata": {},
   "source": [
    "**Q9:** This time, produce the same result as in Q8, but using a subquery."
   ]
  },
  {
   "cell_type": "code",
   "execution_count": null,
   "metadata": {
    "vscode": {
     "languageId": "sql"
    }
   },
   "outputs": [],
   "source": [
    "SELECT F.name AS Facility, concat(firstname,' ',surname),\n",
    "\tCASE \n",
    "\t    WHEN B.memid = 0 AND F.guestcost > 30 THEN F.guestcost\n",
    "        WHEN B.memid != 0 AND F.membercost > 30 THEN F.membercost\n",
    "        END AS Cost \n",
    "    FROM Members AS M \n",
    "    INNER JOIN Bookings AS B \n",
    "    ON M.memid = B.memid \n",
    "    INNER JOIN Facilities AS F \n",
    "    ON B.facid = F.facid \n",
    "    WHERE starttime IN (\n",
    "    \tSELECT starttime\n",
    "        FROM Bookings\n",
    "        WHERE starttime LIKE '2012-09-14%') \n",
    "    AND ( \n",
    "        (B.memid != 0 AND membercost > 30) OR (B.memid = 0 AND guestcost > 30) \n",
    "        )\n",
    "    ORDER BY Cost DESC;"
   ]
  },
  {
   "attachments": {},
   "cell_type": "markdown",
   "metadata": {},
   "source": [
    "# **PART 2: SQLite**\n",
    "\n",
    "Export the country club data from PHPMyAdmin, and connect to a local SQLite instance from Jupyter notebook for the following questions.  "
   ]
  },
  {
   "cell_type": "code",
   "execution_count": 4,
   "metadata": {},
   "outputs": [],
   "source": [
    "from sqlalchemy import create_engine\n",
    "import pandas as pd\n",
    "engine = create_engine('sqlite:///country_club.sqlite')"
   ]
  },
  {
   "attachments": {},
   "cell_type": "markdown",
   "metadata": {},
   "source": [
    "## **QUESTIONS**\n",
    "**Q10:** Produce a list of facilities with a total revenue less than 1000.\n",
    "The output of facility name and total revenue, sorted by revenue. Remember\n",
    "that there's a different cost for guests and members!"
   ]
  },
  {
   "cell_type": "code",
   "execution_count": null,
   "metadata": {},
   "outputs": [],
   "source": []
  },
  {
   "attachments": {},
   "cell_type": "markdown",
   "metadata": {},
   "source": [
    "**Q11:** Produce a report of members and who recommended them in alphabetic surname,firstname order"
   ]
  },
  {
   "cell_type": "code",
   "execution_count": null,
   "metadata": {},
   "outputs": [],
   "source": []
  },
  {
   "attachments": {},
   "cell_type": "markdown",
   "metadata": {},
   "source": [
    "**Q12:** Find the facilities with their usage by member, but not guests"
   ]
  },
  {
   "cell_type": "code",
   "execution_count": null,
   "metadata": {},
   "outputs": [],
   "source": []
  },
  {
   "attachments": {},
   "cell_type": "markdown",
   "metadata": {},
   "source": [
    "**Q13:** Find the facilities usage by month, but not guests"
   ]
  },
  {
   "cell_type": "code",
   "execution_count": null,
   "metadata": {},
   "outputs": [],
   "source": []
  }
 ],
 "metadata": {
  "kernelspec": {
   "display_name": "SQL_Project",
   "language": "python",
   "name": "python3"
  },
  "language_info": {
   "codemirror_mode": {
    "name": "ipython",
    "version": 3
   },
   "file_extension": ".py",
   "mimetype": "text/x-python",
   "name": "python",
   "nbconvert_exporter": "python",
   "pygments_lexer": "ipython3",
   "version": "3.9.15"
  },
  "orig_nbformat": 4,
  "vscode": {
   "interpreter": {
    "hash": "066e07a0208d39978423be19e279099eedadec36c03216cce202e3ae9096c8e4"
   }
  }
 },
 "nbformat": 4,
 "nbformat_minor": 2
}
