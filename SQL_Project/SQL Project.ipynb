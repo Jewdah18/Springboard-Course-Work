{
 "cells": [
  {
   "attachments": {},
   "cell_type": "markdown",
   "metadata": {},
   "source": [
    "Welcome to the SQL mini project. You will carry out this project partly in\n",
    "the PHPMyAdmin interface, and partly in Jupyter via a Python connection.\n",
    "\n",
    "This is Tier 2 of the case study, which means that there'll be less guidance for you about how to setup\n",
    "your local SQLite connection in PART 2 of the case study. This will make the case study more challenging for you: \n",
    "you might need to do some digging, and revise the Working with Relational Databases in Python chapter in the previous resource.\n",
    "\n",
    "Otherwise, the questions in the case study are exactly the same as with Tier 1. \n",
    "\n",
    "PART 1: PHPMyAdmin\n",
    "You will complete questions 1-9 below in the PHPMyAdmin interface. \n",
    "Log in by pasting the following URL into your browser, and\n",
    "using the following Username and Password:\n",
    "\n",
    "URL: https://sql.springboard.com/  \n",
    "Username: student  \n",
    "Password: learn_sql@springboard\n",
    "\n",
    "The data you need is in the \"country_club\" database. This database\n",
    "contains 3 tables:  \n",
    "    i) the \"Bookings\" table,  \n",
    "    ii) the \"Facilities\" table, and  \n",
    "    iii) the \"Members\" table.\n",
    "\n",
    "In this case study, you'll be asked a series of questions. You can\n",
    "solve them using the platform, but for the final deliverable,\n",
    "paste the code for each solution into this script, and upload it\n",
    "to your GitHub.\n",
    "\n",
    "Before starting with the questions, feel free to take your time,\n",
    "exploring the data, and getting acquainted with the 3 tables. \n",
    "\n"
   ]
  },
  {
   "attachments": {},
   "cell_type": "markdown",
   "metadata": {},
   "source": [
    "# **PART I**\n",
    "##                                  **QUESTIONS** \n",
    "\n",
    "**Q1:** Some of the facilities charge a fee to members, but some do not.\n",
    "Write a SQL query to produce a list of the names of the facilities that do. "
   ]
  },
  {
   "cell_type": "code",
   "execution_count": null,
   "metadata": {
    "vscode": {
     "languageId": "sql"
    }
   },
   "outputs": [],
   "source": [
    "SELECT name \n",
    "    FROM Facilities \n",
    "    WHERE membercost > 0;"
   ]
  },
  {
   "attachments": {},
   "cell_type": "markdown",
   "metadata": {},
   "source": [
    "**Q2:** How many facilities do not charge a fee to members?"
   ]
  },
  {
   "cell_type": "code",
   "execution_count": null,
   "metadata": {
    "vscode": {
     "languageId": "sql"
    }
   },
   "outputs": [],
   "source": [
    "SELECT COUNT(name) \n",
    "    FROM Facilities \n",
    "    WHERE membercost = 0;"
   ]
  },
  {
   "attachments": {},
   "cell_type": "markdown",
   "metadata": {},
   "source": [
    "**Q3:** Write an SQL query to show a list of facilities that charge a fee to members, where the fee is less than 20% of the facility's monthly maintenance cost.\n",
    "Return the facid, facility name, member cost, and monthly maintenance of the\n",
    "facilities in question. "
   ]
  },
  {
   "cell_type": "code",
   "execution_count": null,
   "metadata": {
    "vscode": {
     "languageId": "sql"
    }
   },
   "outputs": [],
   "source": [
    "SELECT facid, name, membercost, monthlymaintenance \n",
    "       FROM Facilities \n",
    "       WHERE membercost < (monthlymaintenance * 0.2); "
   ]
  },
  {
   "attachments": {},
   "cell_type": "markdown",
   "metadata": {},
   "source": [
    "**Q4:** Write an SQL query to retrieve the details of facilities with ID 1 and 5.\n",
    "Try writing the query without using the OR operator."
   ]
  },
  {
   "cell_type": "code",
   "execution_count": null,
   "metadata": {
    "vscode": {
     "languageId": "sql"
    }
   },
   "outputs": [],
   "source": [
    "SELECT * \n",
    "    FROM Facilities \n",
    "    WHERE facid IN (1,5);"
   ]
  },
  {
   "attachments": {},
   "cell_type": "markdown",
   "metadata": {},
   "source": [
    "**Q5:** Produce a list of facilities, with each labelled as\n",
    "'cheap' or 'expensive', depending on if their monthly maintenance cost is\n",
    "more than $100. Return the name and monthly maintenance of the facilities\n",
    "in question. "
   ]
  },
  {
   "cell_type": "code",
   "execution_count": null,
   "metadata": {
    "vscode": {
     "languageId": "sql"
    }
   },
   "outputs": [],
   "source": [
    "SELECT name, monthlymaintenance, \n",
    "    CASE \n",
    "        WHEN monthlymaintenance > 100 THEN 'expensive' \n",
    "        ELSE 'cheap' \n",
    "        END AS COE \n",
    "        FROM Facilities; "
   ]
  },
  {
   "attachments": {},
   "cell_type": "markdown",
   "metadata": {},
   "source": [
    "**Q6:** You'd like to get the first and last name of the last member(s)\n",
    "who signed up. Try not to use the LIMIT clause for your solution. "
   ]
  },
  {
   "cell_type": "code",
   "execution_count": null,
   "metadata": {
    "vscode": {
     "languageId": "sql"
    }
   },
   "outputs": [],
   "source": [
    "SELECT firstname, surname \n",
    "    FROM Members \n",
    "    ORDER BY joindate DESC;"
   ]
  },
  {
   "attachments": {},
   "cell_type": "markdown",
   "metadata": {},
   "source": [
    "**Q7:** Produce a list of all members who have used a tennis court.\n",
    "Include in your output the name of the court, and the name of the member\n",
    "formatted as a single column. Ensure no duplicate data, and order by\n",
    "the member name. "
   ]
  },
  {
   "cell_type": "code",
   "execution_count": null,
   "metadata": {
    "vscode": {
     "languageId": "sql"
    }
   },
   "outputs": [],
   "source": [
    "SELECT DISTINCT concat(firstname,' ', surname) AS Names, F.name AS Facility \n",
    "    FROM Members AS M \n",
    "    INNER JOIN Bookings AS B \n",
    "    ON M.memid = B.memid \n",
    "    INNER JOIN Facilities AS F \n",
    "    ON B.facid = F.facid \n",
    "    WHERE B.facid IN (0, 1);"
   ]
  },
  {
   "attachments": {},
   "cell_type": "markdown",
   "metadata": {},
   "source": [
    "**Q8:** Produce a list of bookings on the day of 2012-09-14 which\n",
    "will cost the member (or guest) more than $30. Remember that guests have\n",
    "different costs to members (the listed costs are per half-hour 'slot'), and\n",
    "the guest user's ID is always 0. Include in your output the name of the\n",
    "facility, the name of the member formatted as a single column, and the cost.\n",
    "Order by descending cost, and do not use any subqueries."
   ]
  },
  {
   "cell_type": "code",
   "execution_count": null,
   "metadata": {
    "vscode": {
     "languageId": "sql"
    }
   },
   "outputs": [],
   "source": [
    "SELECT F.name AS Facility,\n",
    "    CASE \n",
    "        WHEN B.memid = 0 THEN 'Guest' \n",
    "        ELSE concat(firstname,' ',surname) \n",
    "        END AS Names,\n",
    "    CASE \n",
    "\t    WHEN B.memid = 0 THEN F.guestcost\n",
    "        ELSE F.membercost\n",
    "        END AS Cost \n",
    "    FROM Members AS M \n",
    "    INNER JOIN Bookings AS B \n",
    "    ON M.memid = B.memid \n",
    "    INNER JOIN Facilities AS F \n",
    "    ON B.facid = F.facid \n",
    "    WHERE starttime LIKE '2012-09-14%' \n",
    "    AND ( \n",
    "        (B.memid != 0 AND membercost > 30) OR (B.memid = 0 AND guestcost > 30) \n",
    "        )\n",
    "    ORDER BY Cost DESC;"
   ]
  },
  {
   "attachments": {},
   "cell_type": "markdown",
   "metadata": {},
   "source": [
    "**Q9:** This time, produce the same result as in Q8, but using a subquery."
   ]
  },
  {
   "cell_type": "code",
   "execution_count": null,
   "metadata": {
    "vscode": {
     "languageId": "sql"
    }
   },
   "outputs": [],
   "source": [
    "SELECT F.name AS Facility, concat(firstname,' ',surname),\n",
    "\tCASE \n",
    "\t    WHEN B.memid = 0 AND F.guestcost > 30 THEN F.guestcost\n",
    "        WHEN B.memid != 0 AND F.membercost > 30 THEN F.membercost\n",
    "        END AS Cost \n",
    "    FROM Members AS M \n",
    "    INNER JOIN Bookings AS B \n",
    "    ON M.memid = B.memid \n",
    "    INNER JOIN Facilities AS F \n",
    "    ON B.facid = F.facid \n",
    "    WHERE starttime IN (\n",
    "    \tSELECT starttime\n",
    "        FROM Bookings\n",
    "        WHERE starttime LIKE '2012-09-14%') \n",
    "    AND ( \n",
    "        (B.memid != 0 AND membercost > 30) OR (B.memid = 0 AND guestcost > 30) \n",
    "        )\n",
    "    ORDER BY Cost DESC;"
   ]
  },
  {
   "attachments": {},
   "cell_type": "markdown",
   "metadata": {},
   "source": [
    "# **PART 2: SQLite**\n",
    "\n",
    "Export the country club data from PHPMyAdmin, and connect to a local SQLite instance from Jupyter notebook for the following questions.  "
   ]
  },
  {
   "cell_type": "code",
   "execution_count": 1,
   "metadata": {},
   "outputs": [],
   "source": [
    "from sqlalchemy import create_engine\n",
    "import pandas as pd\n",
    "engine = create_engine('sqlite:///sqlite_db_pythonsqlite.db')"
   ]
  },
  {
   "attachments": {},
   "cell_type": "markdown",
   "metadata": {},
   "source": [
    "## **QUESTIONS**\n",
    "**Q10:** Produce a list of facilities with a total revenue less than 1000.\n",
    "The output of facility name and total revenue, sorted by revenue. Remember\n",
    "that there's a different cost for guests and members!"
   ]
  },
  {
   "cell_type": "code",
   "execution_count": 6,
   "metadata": {},
   "outputs": [
    {
     "data": {
      "text/html": [
       "<div>\n",
       "<style scoped>\n",
       "    .dataframe tbody tr th:only-of-type {\n",
       "        vertical-align: middle;\n",
       "    }\n",
       "\n",
       "    .dataframe tbody tr th {\n",
       "        vertical-align: top;\n",
       "    }\n",
       "\n",
       "    .dataframe thead th {\n",
       "        text-align: right;\n",
       "    }\n",
       "</style>\n",
       "<table border=\"1\" class=\"dataframe\">\n",
       "  <thead>\n",
       "    <tr style=\"text-align: right;\">\n",
       "      <th></th>\n",
       "      <th>name</th>\n",
       "      <th>Revenue</th>\n",
       "    </tr>\n",
       "  </thead>\n",
       "  <tbody>\n",
       "    <tr>\n",
       "      <th>0</th>\n",
       "      <td>Badminton Court</td>\n",
       "      <td>604.5</td>\n",
       "    </tr>\n",
       "    <tr>\n",
       "      <th>1</th>\n",
       "      <td>Pool Table</td>\n",
       "      <td>265.0</td>\n",
       "    </tr>\n",
       "    <tr>\n",
       "      <th>2</th>\n",
       "      <td>Snooker Table</td>\n",
       "      <td>115.0</td>\n",
       "    </tr>\n",
       "    <tr>\n",
       "      <th>3</th>\n",
       "      <td>Table Tennis</td>\n",
       "      <td>90.0</td>\n",
       "    </tr>\n",
       "  </tbody>\n",
       "</table>\n",
       "</div>"
      ],
      "text/plain": [
       "              name  Revenue\n",
       "0  Badminton Court    604.5\n",
       "1       Pool Table    265.0\n",
       "2    Snooker Table    115.0\n",
       "3     Table Tennis     90.0"
      ]
     },
     "execution_count": 6,
     "metadata": {},
     "output_type": "execute_result"
    }
   ],
   "source": [
    "pd.read_sql_query('''SELECT F.name, F.guestcost * (SELECT COUNT(bookid) \n",
    "                                                   FROM Bookings AS B \n",
    "                                                   WHERE memid = 0 AND B.facid = F.facid) +\n",
    "                                    membercost * (SELECT COUNT(bookid) \n",
    "                                                  FROM Bookings AS B \n",
    "                                                  WHERE memid != 0 AND B.facid = F.facid) AS Revenue\n",
    "                     FROM Facilities AS F \n",
    "                     INNER JOIN Bookings AS B\n",
    "                     GROUP BY name\n",
    "                     Having Revenue < 1000\n",
    "                                ''', engine)"
   ]
  },
  {
   "attachments": {},
   "cell_type": "markdown",
   "metadata": {},
   "source": [
    "**Q11:** Produce a report of members and who recommended them in alphabetic surname, firstname order"
   ]
  },
  {
   "cell_type": "code",
   "execution_count": 36,
   "metadata": {},
   "outputs": [
    {
     "data": {
      "text/html": [
       "<div>\n",
       "<style scoped>\n",
       "    .dataframe tbody tr th:only-of-type {\n",
       "        vertical-align: middle;\n",
       "    }\n",
       "\n",
       "    .dataframe tbody tr th {\n",
       "        vertical-align: top;\n",
       "    }\n",
       "\n",
       "    .dataframe thead th {\n",
       "        text-align: right;\n",
       "    }\n",
       "</style>\n",
       "<table border=\"1\" class=\"dataframe\">\n",
       "  <thead>\n",
       "    <tr style=\"text-align: right;\">\n",
       "      <th></th>\n",
       "      <th>Recommended_By</th>\n",
       "      <th>Member</th>\n",
       "    </tr>\n",
       "  </thead>\n",
       "  <tbody>\n",
       "    <tr>\n",
       "      <th>0</th>\n",
       "      <td>Florence Bader</td>\n",
       "      <td>Ramnaresh Sarwin</td>\n",
       "    </tr>\n",
       "    <tr>\n",
       "      <th>1</th>\n",
       "      <td>Timothy Baker</td>\n",
       "      <td>Joan Coplin</td>\n",
       "    </tr>\n",
       "    <tr>\n",
       "      <th>2</th>\n",
       "      <td>Gerald Butters</td>\n",
       "      <td>Matthew Genting</td>\n",
       "    </tr>\n",
       "    <tr>\n",
       "      <th>3</th>\n",
       "      <td>Jemima Farrell</td>\n",
       "      <td>Timothy Baker</td>\n",
       "    </tr>\n",
       "    <tr>\n",
       "      <th>4</th>\n",
       "      <td>Jemima Farrell</td>\n",
       "      <td>David Pinker</td>\n",
       "    </tr>\n",
       "    <tr>\n",
       "      <th>5</th>\n",
       "      <td>Matthew Genting</td>\n",
       "      <td>Henrietta Rumney</td>\n",
       "    </tr>\n",
       "    <tr>\n",
       "      <th>6</th>\n",
       "      <td>David Jones</td>\n",
       "      <td>Douglas Jones</td>\n",
       "    </tr>\n",
       "    <tr>\n",
       "      <th>7</th>\n",
       "      <td>Janice Joplette</td>\n",
       "      <td>Nancy Dare</td>\n",
       "    </tr>\n",
       "    <tr>\n",
       "      <th>8</th>\n",
       "      <td>Janice Joplette</td>\n",
       "      <td>David Jones</td>\n",
       "    </tr>\n",
       "    <tr>\n",
       "      <th>9</th>\n",
       "      <td>Millicent Purview</td>\n",
       "      <td>John Hunt</td>\n",
       "    </tr>\n",
       "    <tr>\n",
       "      <th>10</th>\n",
       "      <td>Tim Rownam</td>\n",
       "      <td>Tim Boothe</td>\n",
       "    </tr>\n",
       "    <tr>\n",
       "      <th>11</th>\n",
       "      <td>Darren Smith</td>\n",
       "      <td>Gerald Butters</td>\n",
       "    </tr>\n",
       "    <tr>\n",
       "      <th>12</th>\n",
       "      <td>Darren Smith</td>\n",
       "      <td>Janice Joplette</td>\n",
       "    </tr>\n",
       "    <tr>\n",
       "      <th>13</th>\n",
       "      <td>Darren Smith</td>\n",
       "      <td>Anna Mackenzie</td>\n",
       "    </tr>\n",
       "    <tr>\n",
       "      <th>14</th>\n",
       "      <td>Darren Smith</td>\n",
       "      <td>Charles Owen</td>\n",
       "    </tr>\n",
       "    <tr>\n",
       "      <th>15</th>\n",
       "      <td>Darren Smith</td>\n",
       "      <td>Jack Smith</td>\n",
       "    </tr>\n",
       "    <tr>\n",
       "      <th>16</th>\n",
       "      <td>Tracy Smith</td>\n",
       "      <td>Erica Crumpet</td>\n",
       "    </tr>\n",
       "    <tr>\n",
       "      <th>17</th>\n",
       "      <td>Tracy Smith</td>\n",
       "      <td>Millicent Purview</td>\n",
       "    </tr>\n",
       "    <tr>\n",
       "      <th>18</th>\n",
       "      <td>Tracy Smith</td>\n",
       "      <td>Henry Worthington-Smyth</td>\n",
       "    </tr>\n",
       "    <tr>\n",
       "      <th>19</th>\n",
       "      <td>Ponder Stibbons</td>\n",
       "      <td>Florence Bader</td>\n",
       "    </tr>\n",
       "    <tr>\n",
       "      <th>20</th>\n",
       "      <td>Ponder Stibbons</td>\n",
       "      <td>Anne Baker</td>\n",
       "    </tr>\n",
       "    <tr>\n",
       "      <th>21</th>\n",
       "      <td>Burton Tracy</td>\n",
       "      <td>Ponder Stibbons</td>\n",
       "    </tr>\n",
       "  </tbody>\n",
       "</table>\n",
       "</div>"
      ],
      "text/plain": [
       "       Recommended_By                   Member\n",
       "0      Florence Bader         Ramnaresh Sarwin\n",
       "1       Timothy Baker              Joan Coplin\n",
       "2      Gerald Butters          Matthew Genting\n",
       "3      Jemima Farrell            Timothy Baker\n",
       "4      Jemima Farrell             David Pinker\n",
       "5     Matthew Genting         Henrietta Rumney\n",
       "6         David Jones            Douglas Jones\n",
       "7     Janice Joplette               Nancy Dare\n",
       "8     Janice Joplette              David Jones\n",
       "9   Millicent Purview                John Hunt\n",
       "10         Tim Rownam               Tim Boothe\n",
       "11       Darren Smith           Gerald Butters\n",
       "12       Darren Smith          Janice Joplette\n",
       "13       Darren Smith           Anna Mackenzie\n",
       "14       Darren Smith             Charles Owen\n",
       "15       Darren Smith               Jack Smith\n",
       "16        Tracy Smith            Erica Crumpet\n",
       "17        Tracy Smith        Millicent Purview\n",
       "18        Tracy Smith  Henry Worthington-Smyth\n",
       "19    Ponder Stibbons           Florence Bader\n",
       "20    Ponder Stibbons               Anne Baker\n",
       "21       Burton Tracy          Ponder Stibbons"
      ]
     },
     "execution_count": 36,
     "metadata": {},
     "output_type": "execute_result"
    }
   ],
   "source": [
    "pd.read_sql_query('''SELECT m.firstname || ' ' || m.surname as Recommended_By,\n",
    "                            rcmd.firstname || ' ' || rcmd.surname as Member\n",
    "                    FROM Members m\n",
    "                    INNER JOIN Members rcmd \n",
    "                    ON rcmd.recommendedby = m.memid\n",
    "                    WHERE m.memid > 0 \n",
    "                    ORDER BY m.surname,m.firstname,rcmd.surname,rcmd.surname\n",
    "                    ''', engine)"
   ]
  },
  {
   "attachments": {},
   "cell_type": "markdown",
   "metadata": {},
   "source": [
    "**Q12:** Find the facilities with their usage by member, but not guests"
   ]
  },
  {
   "cell_type": "code",
   "execution_count": 33,
   "metadata": {},
   "outputs": [
    {
     "data": {
      "text/html": [
       "<div>\n",
       "<style scoped>\n",
       "    .dataframe tbody tr th:only-of-type {\n",
       "        vertical-align: middle;\n",
       "    }\n",
       "\n",
       "    .dataframe tbody tr th {\n",
       "        vertical-align: top;\n",
       "    }\n",
       "\n",
       "    .dataframe thead th {\n",
       "        text-align: right;\n",
       "    }\n",
       "</style>\n",
       "<table border=\"1\" class=\"dataframe\">\n",
       "  <thead>\n",
       "    <tr style=\"text-align: right;\">\n",
       "      <th></th>\n",
       "      <th>Facility</th>\n",
       "      <th>USAGE</th>\n",
       "    </tr>\n",
       "  </thead>\n",
       "  <tbody>\n",
       "    <tr>\n",
       "      <th>0</th>\n",
       "      <td>Badminton Court</td>\n",
       "      <td>344</td>\n",
       "    </tr>\n",
       "    <tr>\n",
       "      <th>1</th>\n",
       "      <td>Massage Room 1</td>\n",
       "      <td>421</td>\n",
       "    </tr>\n",
       "    <tr>\n",
       "      <th>2</th>\n",
       "      <td>Massage Room 2</td>\n",
       "      <td>27</td>\n",
       "    </tr>\n",
       "    <tr>\n",
       "      <th>3</th>\n",
       "      <td>Pool Table</td>\n",
       "      <td>783</td>\n",
       "    </tr>\n",
       "    <tr>\n",
       "      <th>4</th>\n",
       "      <td>Snooker Table</td>\n",
       "      <td>421</td>\n",
       "    </tr>\n",
       "    <tr>\n",
       "      <th>5</th>\n",
       "      <td>Squash Court</td>\n",
       "      <td>195</td>\n",
       "    </tr>\n",
       "    <tr>\n",
       "      <th>6</th>\n",
       "      <td>Table Tennis</td>\n",
       "      <td>385</td>\n",
       "    </tr>\n",
       "    <tr>\n",
       "      <th>7</th>\n",
       "      <td>Tennis Court 1</td>\n",
       "      <td>308</td>\n",
       "    </tr>\n",
       "    <tr>\n",
       "      <th>8</th>\n",
       "      <td>Tennis Court 2</td>\n",
       "      <td>276</td>\n",
       "    </tr>\n",
       "  </tbody>\n",
       "</table>\n",
       "</div>"
      ],
      "text/plain": [
       "          Facility  USAGE\n",
       "0  Badminton Court    344\n",
       "1   Massage Room 1    421\n",
       "2   Massage Room 2     27\n",
       "3       Pool Table    783\n",
       "4    Snooker Table    421\n",
       "5     Squash Court    195\n",
       "6     Table Tennis    385\n",
       "7   Tennis Court 1    308\n",
       "8   Tennis Court 2    276"
      ]
     },
     "execution_count": 33,
     "metadata": {},
     "output_type": "execute_result"
    }
   ],
   "source": [
    "pd.read_sql_query('''SELECT F.name Facility, COUNT(bookid) USAGE\n",
    "                     FROM Bookings AS B\n",
    "                     INNER JOIN Members AS M\n",
    "                     USING (memid)\n",
    "                     INNER JOIN Facilities AS F\n",
    "                     USING (facid)\n",
    "                     WHERE memid != 0\n",
    "                     GROUP BY F.name; ''', engine)"
   ]
  },
  {
   "attachments": {},
   "cell_type": "markdown",
   "metadata": {},
   "source": [
    "**Q13:** Find the facilities usage by month, but not guests"
   ]
  },
  {
   "cell_type": "code",
   "execution_count": 35,
   "metadata": {},
   "outputs": [
    {
     "data": {
      "text/html": [
       "<div>\n",
       "<style scoped>\n",
       "    .dataframe tbody tr th:only-of-type {\n",
       "        vertical-align: middle;\n",
       "    }\n",
       "\n",
       "    .dataframe tbody tr th {\n",
       "        vertical-align: top;\n",
       "    }\n",
       "\n",
       "    .dataframe thead th {\n",
       "        text-align: right;\n",
       "    }\n",
       "</style>\n",
       "<table border=\"1\" class=\"dataframe\">\n",
       "  <thead>\n",
       "    <tr style=\"text-align: right;\">\n",
       "      <th></th>\n",
       "      <th>Facility</th>\n",
       "      <th>USAGE</th>\n",
       "    </tr>\n",
       "  </thead>\n",
       "  <tbody>\n",
       "    <tr>\n",
       "      <th>0</th>\n",
       "      <td>Badminton Court</td>\n",
       "      <td>51</td>\n",
       "    </tr>\n",
       "    <tr>\n",
       "      <th>1</th>\n",
       "      <td>Badminton Court</td>\n",
       "      <td>132</td>\n",
       "    </tr>\n",
       "    <tr>\n",
       "      <th>2</th>\n",
       "      <td>Badminton Court</td>\n",
       "      <td>161</td>\n",
       "    </tr>\n",
       "    <tr>\n",
       "      <th>3</th>\n",
       "      <td>Massage Room 1</td>\n",
       "      <td>77</td>\n",
       "    </tr>\n",
       "    <tr>\n",
       "      <th>4</th>\n",
       "      <td>Massage Room 1</td>\n",
       "      <td>153</td>\n",
       "    </tr>\n",
       "    <tr>\n",
       "      <th>5</th>\n",
       "      <td>Massage Room 1</td>\n",
       "      <td>191</td>\n",
       "    </tr>\n",
       "    <tr>\n",
       "      <th>6</th>\n",
       "      <td>Massage Room 2</td>\n",
       "      <td>4</td>\n",
       "    </tr>\n",
       "    <tr>\n",
       "      <th>7</th>\n",
       "      <td>Massage Room 2</td>\n",
       "      <td>9</td>\n",
       "    </tr>\n",
       "    <tr>\n",
       "      <th>8</th>\n",
       "      <td>Massage Room 2</td>\n",
       "      <td>14</td>\n",
       "    </tr>\n",
       "    <tr>\n",
       "      <th>9</th>\n",
       "      <td>Pool Table</td>\n",
       "      <td>103</td>\n",
       "    </tr>\n",
       "    <tr>\n",
       "      <th>10</th>\n",
       "      <td>Pool Table</td>\n",
       "      <td>272</td>\n",
       "    </tr>\n",
       "    <tr>\n",
       "      <th>11</th>\n",
       "      <td>Pool Table</td>\n",
       "      <td>408</td>\n",
       "    </tr>\n",
       "    <tr>\n",
       "      <th>12</th>\n",
       "      <td>Snooker Table</td>\n",
       "      <td>68</td>\n",
       "    </tr>\n",
       "    <tr>\n",
       "      <th>13</th>\n",
       "      <td>Snooker Table</td>\n",
       "      <td>154</td>\n",
       "    </tr>\n",
       "    <tr>\n",
       "      <th>14</th>\n",
       "      <td>Snooker Table</td>\n",
       "      <td>199</td>\n",
       "    </tr>\n",
       "    <tr>\n",
       "      <th>15</th>\n",
       "      <td>Squash Court</td>\n",
       "      <td>23</td>\n",
       "    </tr>\n",
       "    <tr>\n",
       "      <th>16</th>\n",
       "      <td>Squash Court</td>\n",
       "      <td>85</td>\n",
       "    </tr>\n",
       "    <tr>\n",
       "      <th>17</th>\n",
       "      <td>Squash Court</td>\n",
       "      <td>87</td>\n",
       "    </tr>\n",
       "    <tr>\n",
       "      <th>18</th>\n",
       "      <td>Table Tennis</td>\n",
       "      <td>48</td>\n",
       "    </tr>\n",
       "    <tr>\n",
       "      <th>19</th>\n",
       "      <td>Table Tennis</td>\n",
       "      <td>143</td>\n",
       "    </tr>\n",
       "    <tr>\n",
       "      <th>20</th>\n",
       "      <td>Table Tennis</td>\n",
       "      <td>194</td>\n",
       "    </tr>\n",
       "    <tr>\n",
       "      <th>21</th>\n",
       "      <td>Tennis Court 1</td>\n",
       "      <td>65</td>\n",
       "    </tr>\n",
       "    <tr>\n",
       "      <th>22</th>\n",
       "      <td>Tennis Court 1</td>\n",
       "      <td>111</td>\n",
       "    </tr>\n",
       "    <tr>\n",
       "      <th>23</th>\n",
       "      <td>Tennis Court 1</td>\n",
       "      <td>132</td>\n",
       "    </tr>\n",
       "    <tr>\n",
       "      <th>24</th>\n",
       "      <td>Tennis Court 2</td>\n",
       "      <td>41</td>\n",
       "    </tr>\n",
       "    <tr>\n",
       "      <th>25</th>\n",
       "      <td>Tennis Court 2</td>\n",
       "      <td>109</td>\n",
       "    </tr>\n",
       "    <tr>\n",
       "      <th>26</th>\n",
       "      <td>Tennis Court 2</td>\n",
       "      <td>126</td>\n",
       "    </tr>\n",
       "  </tbody>\n",
       "</table>\n",
       "</div>"
      ],
      "text/plain": [
       "           Facility  USAGE\n",
       "0   Badminton Court     51\n",
       "1   Badminton Court    132\n",
       "2   Badminton Court    161\n",
       "3    Massage Room 1     77\n",
       "4    Massage Room 1    153\n",
       "5    Massage Room 1    191\n",
       "6    Massage Room 2      4\n",
       "7    Massage Room 2      9\n",
       "8    Massage Room 2     14\n",
       "9        Pool Table    103\n",
       "10       Pool Table    272\n",
       "11       Pool Table    408\n",
       "12    Snooker Table     68\n",
       "13    Snooker Table    154\n",
       "14    Snooker Table    199\n",
       "15     Squash Court     23\n",
       "16     Squash Court     85\n",
       "17     Squash Court     87\n",
       "18     Table Tennis     48\n",
       "19     Table Tennis    143\n",
       "20     Table Tennis    194\n",
       "21   Tennis Court 1     65\n",
       "22   Tennis Court 1    111\n",
       "23   Tennis Court 1    132\n",
       "24   Tennis Court 2     41\n",
       "25   Tennis Court 2    109\n",
       "26   Tennis Court 2    126"
      ]
     },
     "execution_count": 35,
     "metadata": {},
     "output_type": "execute_result"
    }
   ],
   "source": [
    "pd.read_sql_query('''SELECT F.name Facility, COUNT(bookid) USAGE\n",
    "                     FROM Bookings AS B\n",
    "                     INNER JOIN Members AS M\n",
    "                     USING (memid)\n",
    "                     INNER JOIN Facilities AS F\n",
    "                     USING (facid)\n",
    "                     WHERE memid != 0\n",
    "                     GROUP BY F.name, STRFTIME(\"%m-%Y\", starttime); ''', engine)"
   ]
  }
 ],
 "metadata": {
  "kernelspec": {
   "display_name": "SQL_Project",
   "language": "python",
   "name": "python3"
  },
  "language_info": {
   "codemirror_mode": {
    "name": "ipython",
    "version": 3
   },
   "file_extension": ".py",
   "mimetype": "text/x-python",
   "name": "python",
   "nbconvert_exporter": "python",
   "pygments_lexer": "ipython3",
   "version": "3.9.15"
  },
  "orig_nbformat": 4,
  "vscode": {
   "interpreter": {
    "hash": "066e07a0208d39978423be19e279099eedadec36c03216cce202e3ae9096c8e4"
   }
  }
 },
 "nbformat": 4,
 "nbformat_minor": 2
}
